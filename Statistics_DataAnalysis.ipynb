{
 "cells": [
  {
   "cell_type": "markdown",
   "id": "a62dbe7c",
   "metadata": {},
   "source": [
    "# What Is a T-Test?"
   ]
  },
  {
   "cell_type": "markdown",
   "id": "91c7cbe4",
   "metadata": {},
   "source": [
    "- A t-test is an inferential statistic used to determine if there is a statistically significant difference between the means of two variables.\n",
    "- The t-test is a test used for hypothesis testing in statistics.\n",
    "- Calculating a t-test requires three fundamental data values including the difference between the mean values from each data set, the standard deviation of each group, and the number of data values.\n",
    "- T-tests can be dependent or independent."
   ]
  },
  {
   "cell_type": "markdown",
   "id": "024e09f9",
   "metadata": {},
   "source": [
    "https://www.wallstreetmojo.com/t-test/#t-test-explained"
   ]
  },
  {
   "cell_type": "markdown",
   "id": "704c4efd",
   "metadata": {},
   "source": [
    "## 5 types of T-Test\n"
   ]
  },
  {
   "cell_type": "markdown",
   "id": "8ee4d9e4",
   "metadata": {},
   "source": [
    "1. One-Sample T-Test : One-sample is used to determine whether an unknown population mean is different from a specific value."
   ]
  },
  {
   "cell_type": "markdown",
   "id": "11211647",
   "metadata": {},
   "source": [
    "Ex: Null hypothesis : The average height of Vietnamese men is 1m70"
   ]
  },
  {
   "cell_type": "markdown",
   "id": "894ee69e",
   "metadata": {},
   "source": [
    "2. Independent Two-Sample T-Test : An independent Two-Sample test is conducted when samples from two different groups, species, or populations are studied and compared."
   ]
  },
  {
   "cell_type": "markdown",
   "id": "4983186e",
   "metadata": {},
   "source": [
    "Ex: One way to measure a person’s fitness is to measure their body fat percentage. Average body fat percentages vary by age, but according to some guidelines, the normal range for men is 15-20% body fat, and the normal range for women is 20-25% body fat."
   ]
  },
  {
   "cell_type": "markdown",
   "id": "29f7b668",
   "metadata": {},
   "source": [
    "3. Paired Sample T-Test: Paired Sample is the hypothesis testing conducted when two groups belong to the same population or group."
   ]
  },
  {
   "cell_type": "markdown",
   "id": "3b3de1cc",
   "metadata": {},
   "source": [
    "A paired samples t-test is commonly used in two scenarios:\n",
    "\n",
    "- A measurement is taken on a subject before and after some treatment – e.g. the max vertical jump of college basketball players is measured before and after participating in a training program.\n",
    "\n",
    "- A measurement is taken under two different conditions – e.g. the response time of a patient is measured on two different drugs."
   ]
  },
  {
   "cell_type": "markdown",
   "id": "9266a866",
   "metadata": {},
   "source": [
    "4. Equal Variance T-Test : Equal Variance is conducted when the sample size in each group or population is the same, or the variance of the two data sets is similar.\n"
   ]
  },
  {
   "cell_type": "markdown",
   "id": "fb8f0d3d",
   "metadata": {},
   "source": [
    "Two-sample T-Test with equal variance can be applied when \n",
    "- the samples are normally distributed, \n",
    "- the standard deviation of both populations are unknown and assumed to be equal, and \n",
    "- the sample is sufficiently large (over 30). \n",
    "\n",
    "To compare the height of two male populations from the United States and Sweden, a sample of 30 males from each country is randomly selected and the measured heights are provided."
   ]
  },
  {
   "cell_type": "markdown",
   "id": "5593c955",
   "metadata": {},
   "source": [
    "5. Unequal Variance T-Test : Unequal Variance is used when the variance and the number of samples in each group are different."
   ]
  },
  {
   "cell_type": "markdown",
   "id": "e373bb5b",
   "metadata": {},
   "source": [
    "Two-sample T-Test with unequal variance can be applied when \n",
    "\n",
    "- the samples are normally distributed, \n",
    "- the standard deviation of both populations are unknown and assume to be unequal, \n",
    "- sample is sufficiently large (over 30). \n",
    "\n",
    "To compare the height of two male populations from the United States and Sweden, a sample of 30 males from each country is randomly selected and the measured heights are provided"
   ]
  },
  {
   "cell_type": "markdown",
   "id": "0a2493d4",
   "metadata": {},
   "source": [
    "# What Is a p-value?"
   ]
  },
  {
   "cell_type": "markdown",
   "id": "78c71359",
   "metadata": {},
   "source": [
    "Xem Goodnote "
   ]
  },
  {
   "cell_type": "code",
   "execution_count": null,
   "id": "ef941e8f",
   "metadata": {},
   "outputs": [],
   "source": [
    "import pandas as pd\n",
    "import numpy as np\n",
    "import matplotlib.pyplot as plt\n",
    "from sklearn import linear_model\n",
    "from mpl_toolkits.mplot3d import Axes3D\n",
    "\n",
    "######################################## Data preparation #########################################\n",
    "\n",
    "file = 'https://aegis4048.github.io/downloads/notebooks/sample_data/unconv_MV_v5.csv'\n",
    "df = pd.read_csv(file)\n",
    "\n",
    "X = df[['Por', 'VR']].values.reshape(-1,2)\n",
    "Y = df['Prod']\n",
    "\n",
    "######################## Prepare model data point for visualization ###############################\n",
    "\n",
    "x = X[:, 0]\n",
    "y = X[:, 1]\n",
    "z = Y\n",
    "\n",
    "x_pred = np.linspace(6, 24, 30)      # range of porosity values\n",
    "y_pred = np.linspace(0.93, 2.9, 30)  # range of VR values\n",
    "xx_pred, yy_pred = np.meshgrid(x_pred, y_pred)\n",
    "model_viz = np.array([xx_pred.flatten(), yy_pred.flatten()]).T\n",
    "\n",
    "################################################ Train #############################################\n",
    "\n",
    "ols = linear_model.LinearRegression()\n",
    "model = ols.fit(X, Y)\n",
    "predicted = model.predict(model_viz)\n",
    "\n",
    "############################################## Evaluate ############################################\n",
    "\n",
    "r2 = model.score(X, Y)\n",
    "\n",
    "############################################## Plot ################################################\n",
    "\n",
    "plt.style.use('default')\n",
    "\n",
    "fig = plt.figure(figsize=(12, 4))\n",
    "\n",
    "ax1 = fig.add_subplot(131, projection='3d')\n",
    "ax2 = fig.add_subplot(132, projection='3d')\n",
    "ax3 = fig.add_subplot(133, projection='3d')\n",
    "\n",
    "axes = [ax1, ax2, ax3]\n",
    "\n",
    "for ax in axes:\n",
    "    ax.plot(x, y, z, color='k', zorder=15, linestyle='none', marker='o', alpha=0.5)\n",
    "    ax.scatter(xx_pred.flatten(), yy_pred.flatten(), predicted, facecolor=(0,0,0,0), s=20, edgecolor='#70b3f0')\n",
    "    ax.set_xlabel('Porosity (%)', fontsize=12)\n",
    "    ax.set_ylabel('VR', fontsize=12)\n",
    "    ax.set_zlabel('Gas Prod. (Mcf/day)', fontsize=12)\n",
    "    ax.locator_params(nbins=4, axis='x')\n",
    "    ax.locator_params(nbins=5, axis='x')\n",
    "\n",
    "ax1.text2D(0.2, 0.32, 'aegis4048.github.io', fontsize=13, ha='center', va='center',\n",
    "           transform=ax1.transAxes, color='grey', alpha=0.5)\n",
    "ax2.text2D(0.3, 0.42, 'aegis4048.github.io', fontsize=13, ha='center', va='center',\n",
    "           transform=ax2.transAxes, color='grey', alpha=0.5)\n",
    "ax3.text2D(0.85, 0.85, 'aegis4048.github.io', fontsize=13, ha='center', va='center',\n",
    "           transform=ax3.transAxes, color='grey', alpha=0.5)\n",
    "\n",
    "ax1.view_init(elev=27, azim=112)\n",
    "ax2.view_init(elev=16, azim=-51)\n",
    "ax3.view_init(elev=60, azim=165)\n",
    "\n",
    "fig.suptitle('$R^2 = %.2f$' % r2, fontsize=20)\n",
    "\n",
    "fig.tight_layout()"
   ]
  },
  {
   "cell_type": "markdown",
   "id": "3b3a697d",
   "metadata": {},
   "source": []
  },
  {
   "cell_type": "code",
   "execution_count": null,
   "id": "ed349440",
   "metadata": {},
   "outputs": [],
   "source": [
    "import pandas as pd"
   ]
  },
  {
   "cell_type": "code",
   "execution_count": null,
   "id": "df2701d7",
   "metadata": {},
   "outputs": [],
   "source": []
  }
 ],
 "metadata": {
  "kernelspec": {
   "display_name": "Python 3 (ipykernel)",
   "language": "python",
   "name": "python3"
  },
  "language_info": {
   "codemirror_mode": {
    "name": "ipython",
    "version": 3
   },
   "file_extension": ".py",
   "mimetype": "text/x-python",
   "name": "python",
   "nbconvert_exporter": "python",
   "pygments_lexer": "ipython3",
   "version": "3.7.6"
  }
 },
 "nbformat": 4,
 "nbformat_minor": 5
}
