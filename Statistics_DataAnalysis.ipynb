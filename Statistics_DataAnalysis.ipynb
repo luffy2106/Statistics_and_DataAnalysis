{
 "cells": [
  {
   "cell_type": "markdown",
   "id": "a62dbe7c",
   "metadata": {},
   "source": [
    "# What Is a T-Test?"
   ]
  },
  {
   "cell_type": "markdown",
   "id": "91c7cbe4",
   "metadata": {},
   "source": [
    "- A t-test is an inferential statistic used to determine if there is a statistically significant difference between the means of two variables.\n",
    "- The t-test is a test used for hypothesis testing in statistics.\n",
    "- Calculating a t-test requires three fundamental data values including the difference between the mean values from each data set, the standard deviation of each group, and the number of data values.\n",
    "- T-tests can be dependent or independent."
   ]
  },
  {
   "cell_type": "markdown",
   "id": "024e09f9",
   "metadata": {},
   "source": [
    "https://www.wallstreetmojo.com/t-test/#t-test-explained"
   ]
  },
  {
   "cell_type": "markdown",
   "id": "5593c955",
   "metadata": {},
   "source": [
    "• One-Sample T-Test : One-sample is used to find out the mean or average of one group to compare it against the set average.\n",
    "\n",
    "• Independent Two-Sample T-Test : An independent Two-Sample test is conducted when samples from two different groups, species, or populations are studied and compared.\n",
    "\n",
    "• Paired Sample T-Test: Paired Sample is the hypothesis testing conducted when two groups belong to the same population or group.\n",
    "\n",
    "•  Equal Variance T-Test : Equal Variance is conducted when the sample size in each group or population is the same, or the variance of the two data sets is similar.\n",
    "\n",
    "• Unequal Variance T-Test : Unequal Variance is used when the variance and the number of samples in each group are different."
   ]
  },
  {
   "cell_type": "markdown",
   "id": "0a2493d4",
   "metadata": {},
   "source": [
    "# What Is a p-value?"
   ]
  },
  {
   "cell_type": "code",
   "execution_count": null,
   "id": "78c71359",
   "metadata": {},
   "outputs": [],
   "source": []
  }
 ],
 "metadata": {
  "kernelspec": {
   "display_name": "Python 3 (ipykernel)",
   "language": "python",
   "name": "python3"
  },
  "language_info": {
   "codemirror_mode": {
    "name": "ipython",
    "version": 3
   },
   "file_extension": ".py",
   "mimetype": "text/x-python",
   "name": "python",
   "nbconvert_exporter": "python",
   "pygments_lexer": "ipython3",
   "version": "3.7.6"
  }
 },
 "nbformat": 4,
 "nbformat_minor": 5
}
